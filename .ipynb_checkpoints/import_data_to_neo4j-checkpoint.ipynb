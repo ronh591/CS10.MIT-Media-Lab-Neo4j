{
 "cells": [
  {
   "cell_type": "code",
   "execution_count": 2,
   "metadata": {
    "collapsed": true
   },
   "outputs": [],
   "source": [
    "from neo4j.v1 import GraphDatabase\n",
    "\n",
    "driver = GraphDatabase.driver(\"bolt://localhost:7687\")"
   ]
  },
  {
   "cell_type": "code",
   "execution_count": 69,
   "metadata": {
    "code_folding": [
     0
    ],
    "collapsed": false
   },
   "outputs": [
    {
     "data": {
      "text/plain": [
       "<neo4j.v1.bolt.BoltStatementResult at 0x1057e14a8>"
      ]
     },
     "execution_count": 69,
     "metadata": {},
     "output_type": "execute_result"
    }
   ],
   "source": [
    "def import_projects(driver):\n",
    "    with driver.session() as session:\n",
    "        return session.run(\"LOAD CSV FROM 'file:///Users/timholdsworth/code/ml-neo/projects.csv' AS line \" \n",
    "                           \"MERGE (p:Project {title: line})\")\n",
    "        \n",
    "import_data(driver)"
   ]
  },
  {
   "cell_type": "code",
   "execution_count": 79,
   "metadata": {
    "code_folding": [
     0
    ],
    "collapsed": false
   },
   "outputs": [
    {
     "data": {
      "text/plain": [
       "<neo4j.v1.bolt.BoltStatementResult at 0x10576da90>"
      ]
     },
     "execution_count": 79,
     "metadata": {},
     "output_type": "execute_result"
    }
   ],
   "source": [
    "def import_students(driver):\n",
    "    with driver.session() as session:\n",
    "        return session.run(\"LOAD CSV WITH HEADERS FROM 'file:///Users/timholdsworth/code/ml-neo/students.csv' AS line \" \n",
    "                           \"MERGE (s:Student {name: line.name, position: line.position})\")\n",
    "        \n",
    "import_students(driver)"
   ]
  },
  {
   "cell_type": "code",
   "execution_count": null,
   "metadata": {
    "code_folding": [
     0
    ],
    "collapsed": true
   },
   "outputs": [],
   "source": [
    "def create_student_project_relt(driver):\n",
    "    with driver.session() as session:\n",
    "        return session.run(\"LOAD CSV WITH HEADERS FROM 'file:///Users/timholdsworth/code/ml-neo/people-proj.csv' AS line \"\n",
    "                           \"MERGE (s:Student {name: line.person}) \"\n",
    "                           \"MERGE (p:Project {title: line.project}) \"\n",
    "                           \"CREATE (s)-[:WORKS_ON]->(p)\")"
   ]
  },
  {
   "cell_type": "code",
   "execution_count": 70,
   "metadata": {
    "collapsed": true
   },
   "outputs": [],
   "source": [
    "MERGE (country:Country { name: csvLine.country })\n",
    "CREATE (movie:Movie { id: toInteger(csvLine.id), title: csvLine.title, year:toInteger(csvLine.year)})\n",
    "CREATE (movie)-[:MADE_IN]->(country)"
   ]
  },
  {
   "cell_type": "markdown",
   "metadata": {},
   "source": [
    "NEW FUNCTIONS USE THESE"
   ]
  },
  {
   "cell_type": "code",
   "execution_count": 14,
   "metadata": {
    "collapsed": false
   },
   "outputs": [
    {
     "data": {
      "text/plain": [
       "<neo4j.v1.bolt.BoltStatementResult at 0x1056394a8>"
      ]
     },
     "execution_count": 14,
     "metadata": {},
     "output_type": "execute_result"
    }
   ],
   "source": [
    "def import_groups_people(driver):\n",
    "    with driver.session() as session:\n",
    "        return session.run(\"LOAD CSV WITH HEADERS FROM 'file:///Users/timholdsworth/code/ml-neo/data/group_person.csv' AS line \"\n",
    "                           \"MERGE (g:Group {name: line.group_name}) \"\n",
    "                           \"MERGE (person:Person {name: line.person}) \"\n",
    "                           \"CREATE (person)-[:WORKS_FOR]->(g)\")\n",
    "    \n",
    "import_groups_people(driver)"
   ]
  },
  {
   "cell_type": "code",
   "execution_count": 13,
   "metadata": {
    "collapsed": false
   },
   "outputs": [
    {
     "data": {
      "text/plain": [
       "<neo4j.v1.bolt.BoltStatementResult at 0x1056396d8>"
      ]
     },
     "execution_count": 13,
     "metadata": {},
     "output_type": "execute_result"
    }
   ],
   "source": [
    "def import_groups_projects(driver):\n",
    "    with driver.session() as session:\n",
    "        return session.run(\"LOAD CSV WITH HEADERS FROM 'file:///Users/timholdsworth/code/ml-neo/data/group_proj.csv' AS line \"\n",
    "                           \"MERGE (g:Group {name: line.group_name}) \"\n",
    "                           \"MERGE (proj:Project {title: line.project_title}) \"\n",
    "                           \"CREATE (g)-[:HAS_PROJ]->(proj)\")\n",
    "    \n",
    "import_groups_projects(driver)"
   ]
  },
  {
   "cell_type": "code",
   "execution_count": 3,
   "metadata": {
    "collapsed": false
   },
   "outputs": [
    {
     "data": {
      "text/plain": [
       "<neo4j.v1.bolt.BoltStatementResult at 0x105626860>"
      ]
     },
     "execution_count": 3,
     "metadata": {},
     "output_type": "execute_result"
    }
   ],
   "source": [
    "def import_projects_people(driver):\n",
    "    with driver.session() as session:\n",
    "        return session.run(\"LOAD CSV WITH HEADERS FROM 'file:///Users/timholdsworth/code/ml-neo/data/proj_person.csv' AS line \"\n",
    "                           \"MERGE (proj:Project {title: line.project_title}) \"\n",
    "                           \"MERGE (person:Person {name: line.person, position: line.position}) \"\n",
    "                           \"CREATE (person)-[:WORKS_ON]->(proj)\")\n",
    "    \n",
    "import_projects_people(driver)"
   ]
  },
  {
   "cell_type": "code",
   "execution_count": null,
   "metadata": {
    "collapsed": true
   },
   "outputs": [],
   "source": []
  }
 ],
 "metadata": {
  "anaconda-cloud": {},
  "kernelspec": {
   "display_name": "Python [conda root]",
   "language": "python",
   "name": "conda-root-py"
  },
  "language_info": {
   "codemirror_mode": {
    "name": "ipython",
    "version": 3
   },
   "file_extension": ".py",
   "mimetype": "text/x-python",
   "name": "python",
   "nbconvert_exporter": "python",
   "pygments_lexer": "ipython3",
   "version": "3.5.2"
  }
 },
 "nbformat": 4,
 "nbformat_minor": 2
}
